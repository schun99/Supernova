{
 "cells": [
  {
   "cell_type": "code",
   "execution_count": 36,
   "metadata": {},
   "outputs": [],
   "source": [
    "from sympy import *\n",
    "import pandas as pd\n",
    "import numpy as np\n",
    "import seaborn as sns\n",
    "import scipy.integrate as integrate\n",
    "sns.set(style=\"darkgrid\")\n",
    "import matplotlib.pyplot as plt\n",
    "from array import*\n",
    "%matplotlib inline"
   ]
  },
  {
   "cell_type": "code",
   "execution_count": 53,
   "metadata": {},
   "outputs": [],
   "source": [
    "df = pd.read_csv('mu_pantheon.csv')\n",
    "df.columns = ['redshift', 'mu', 'error']\n",
    "z_obs = np.array(df.redshift)\n",
    "z_exp = np.array(np.linspace(0, 2.6, 1048))\n",
    "mu_obs = np.array(df.mu)\n",
    "yerr = np.array(df.error)\n",
    "Omega_m = Symbol('Omega_m')\n",
    "nOm = 1049\n",
    "Omega_m = np.array(np.linspace(0, 1, num = nOm))\n",
    "H_0 = 70*10**3\n",
    "c = 3*10**8"
   ]
  },
  {
   "cell_type": "code",
   "execution_count": 38,
   "metadata": {
    "scrolled": true
   },
   "outputs": [],
   "source": [
    "cov = np.load('Cov.npy')"
   ]
  },
  {
   "cell_type": "code",
   "execution_count": 39,
   "metadata": {},
   "outputs": [],
   "source": [
    "covinv = np.linalg.inv(cov)"
   ]
  },
  {
   "cell_type": "code",
   "execution_count": 59,
   "metadata": {},
   "outputs": [
    {
     "name": "stderr",
     "output_type": "stream",
     "text": [
      "/anaconda3/lib/python3.7/site-packages/ipykernel_launcher.py:7: RuntimeWarning: divide by zero encountered in log10\n",
      "  import sys\n"
     ]
    },
    {
     "name": "stdout",
     "output_type": "stream",
     "text": [
      "[2943.40897345 2926.84921938 2910.42488629 ... 4901.85706179 4910.31297051\n",
      " 4918.77405807]\n"
     ]
    }
   ],
   "source": [
    "chi2 = np.zeros(nOm)\n",
    "from scipy import interpolate\n",
    "for i, Om in enumerate(Omega_m):\n",
    "    d = (Om * (1 + z_exp)**3 + (1 - Om))**(-0.5)\n",
    "    dlum = integrate.cumtrapz(d, z_exp, initial = 0)\n",
    "    mu_theory = 5 * np.log10((c/H_0 * (1 + z_exp)) * dlum) + 25\n",
    "    mu_int = interpolate.interp1d(z_exp, mu_theory)(z_obs)\n",
    "    mat1 = np.array(mu_int - mu_obs)\n",
    "    mat2 = mat1.transpose()\n",
    "    result1 = np.matmul(mat2, covinv)\n",
    "    result2 = np.matmul(result1, mat1)\n",
    "    chi2[i] = result2\n",
    "print(chi2)"
   ]
  },
  {
   "cell_type": "code",
   "execution_count": 55,
   "metadata": {
    "scrolled": false
   },
   "outputs": [
    {
     "data": {
      "text/plain": [
       "<matplotlib.collections.PathCollection at 0x1a257a8588>"
      ]
     },
     "execution_count": 55,
     "metadata": {},
     "output_type": "execute_result"
    },
    {
     "data": {
      "image/png": "[encoded data removed]",
      "text/plain": [
       "<Figure size 432x288 with 1 Axes>"
      ]
     },
     "metadata": {
      "needs_background": "light"
     },
     "output_type": "display_data"
    }
   ],
   "source": [
    "plt.scatter(Omega_m, chi2)"
   ]
  },
  {
   "cell_type": "code",
   "execution_count": 56,
   "metadata": {},
   "outputs": [
    {
     "data": {
      "text/plain": [
       "1027.0485502632646"
      ]
     },
     "execution_count": 56,
     "metadata": {},
     "output_type": "execute_result"
    }
   ],
   "source": [
    "min(chi2)"
   ]
  },
  {
   "cell_type": "code",
   "execution_count": 61,
   "metadata": {},
   "outputs": [
    {
     "data": {
      "text/plain": [
       "314"
      ]
     },
     "execution_count": 61,
     "metadata": {},
     "output_type": "execute_result"
    }
   ],
   "source": [
    "# np.where(chi2 == min(chi2))\n",
    "chi2.argmin()"
   ]
  },
  {
   "cell_type": "code",
   "execution_count": null,
   "metadata": {},
   "outputs": [],
   "source": []
  }
 ],
 "metadata": {
  "kernelspec": {
   "display_name": "Python 3",
   "language": "python",
   "name": "python3"
  },
  "language_info": {
   "codemirror_mode": {
    "name": "ipython",
    "version": 3
   },
   "file_extension": ".py",
   "mimetype": "text/x-python",
   "name": "python",
   "nbconvert_exporter": "python",
   "pygments_lexer": "ipython3",
   "version": "3.7.4"
  }
 },
 "nbformat": 4,
 "nbformat_minor": 2
}
