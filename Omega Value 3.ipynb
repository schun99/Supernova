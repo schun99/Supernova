{
 "cells": [
  {
   "cell_type": "code",
   "execution_count": 1,
   "metadata": {},
   "outputs": [],
   "source": [
    "from sympy import *\n",
    "import pandas as pd\n",
    "import numpy as np\n",
    "import seaborn as sns\n",
    "import scipy.integrate as integrate\n",
    "sns.set(style=\"darkgrid\")\n",
    "import matplotlib.pyplot as plt\n",
    "%matplotlib inline\n",
    "import math"
   ]
  },
  {
   "cell_type": "code",
   "execution_count": 196,
   "metadata": {},
   "outputs": [],
   "source": [
    "df = pd.read_csv('mu_pantheon.csv')\n",
    "df.columns = ['redshift', 'mu', 'error']\n",
    "z_obs = np.array(df.redshift)\n",
    "z_exp = np.array(np.linspace(0, 2.6, 2601))\n",
    "mu_obs = np.array(df.mu)\n",
    "yerr = np.array(df.error)\n",
    "Omega_m = Symbol('Omega_m')\n",
    "Omega_k = Symbol('Omega_k')\n",
    "nOm = 51\n",
    "nOl = 75\n",
    "Omega_m = np.linspace(.2, .4, num=nOm)\n",
    "#Omega_k = np.linspace(-0.1, 0.1, num=nOk)\n",
    "Omega_l = np.linspace(.5, .9, num = nOl)\n",
    "H_0 = 70*10**3\n",
    "c = 3*10**8\n",
    "cov = np.load('Cov.npy')"
   ]
  },
  {
   "cell_type": "code",
   "execution_count": 187,
   "metadata": {},
   "outputs": [],
   "source": [
    "covinv = np.linalg.inv(cov)"
   ]
  },
  {
   "cell_type": "code",
   "execution_count": 188,
   "metadata": {},
   "outputs": [
    {
     "name": "stdout",
     "output_type": "stream",
     "text": [
      "Omega_k\n",
      "[0.   0.02 0.04 0.06 0.08 0.1  0.12 0.14 0.16 0.18 0.2  0.22 0.24 0.26\n",
      " 0.28 0.3  0.32 0.34 0.36 0.38 0.4  0.42 0.44 0.46 0.48 0.5  0.52 0.54\n",
      " 0.56 0.58 0.6  0.62 0.64 0.66 0.68 0.7  0.72 0.74 0.76 0.78 0.8  0.82\n",
      " 0.84 0.86 0.88 0.9  0.92 0.94 0.96 0.98 1.  ]\n"
     ]
    }
   ],
   "source": [
    "DH = c/H_0\n",
    "chi2 = np.zeros((nOm, nOl))\n",
    "from scipy import interpolate\n",
    "\n",
    "print (Omega_k)\n",
    "print (Omega_m)"
   ]
  },
  {
   "cell_type": "code",
   "execution_count": 197,
   "metadata": {
    "scrolled": true
   },
   "outputs": [],
   "source": [
    "for il, Oml in enumerate(Omega_l):\n",
    "    for im, Omm in enumerate(Omega_m):\n",
    "        # print (Omm,Oml)\n",
    "        Omk = 1 - Oml - Omm\n",
    "        E = (Omm * (1+z_exp)**3 + Omk * (1+z_exp)**2 + Oml) **(0.5)\n",
    "        DC = DH * integrate.cumtrapz((1/E), z_exp, initial = 0.0001)\n",
    "        \n",
    "        if (Omk < 0) :\n",
    "            DM = DH * abs(Omk)**(-0.5) * np.sin(abs(Omk)**0.5 * DC / DH)\n",
    "        elif (Omk > 0):\n",
    "            DM = DH * Omk**(-0.5) * np.sinh(Omk**0.5 * DC / DH)\n",
    "        else:\n",
    "            DM = DC\n",
    "        \n",
    "        DL = (1 + z_exp) * DM\n",
    "        mu_theory = 5 * np.log10(DL) + 25\n",
    "        mu_int = interpolate.interp1d(z_exp, mu_theory)(z_obs)\n",
    "        mat1 = np.array(mu_int - mu_obs)\n",
    "        mat2 = mat1.transpose()\n",
    "        \n",
    "#         if Omk==0.1 and Omm == 0.25:\n",
    "#             fig,ax = plt.subplots(1)\n",
    "#             plt.plot(z_exp,mu_theory)\n",
    "#             plt.errorbar(z_obs,mu_obs,yerr,ls='',marker='.')\n",
    "#             plt.show()\n",
    "\n",
    "        \n",
    "        result1 = np.matmul(mat2, covinv)\n",
    "        result2 = np.matmul(result1, mat1)\n",
    "        chi2[im, il] = result2\n",
    "# print(chi2)"
   ]
  },
  {
   "cell_type": "code",
   "execution_count": 193,
   "metadata": {},
   "outputs": [
    {
     "ename": "TypeError",
     "evalue": "'Symbol' object is not subscriptable",
     "output_type": "error",
     "traceback": [
      "\u001b[0;31m---------------------------------------------------------------------------\u001b[0m",
      "\u001b[0;31mTypeError\u001b[0m                                 Traceback (most recent call last)",
      "\u001b[0;32m<ipython-input-193-c35607ad36f5>\u001b[0m in \u001b[0;36m<module>\u001b[0;34m\u001b[0m\n\u001b[1;32m      3\u001b[0m     \u001b[0mchi2\u001b[0m\u001b[0;34m[\u001b[0m\u001b[0;36m1\u001b[0m\u001b[0;34m,\u001b[0m\u001b[0;36m2\u001b[0m\u001b[0;34m]\u001b[0m\u001b[0;34m,\u001b[0m\u001b[0;34m\u001b[0m\u001b[0;34m\u001b[0m\u001b[0m\n\u001b[1;32m      4\u001b[0m     \u001b[0mOmega_m\u001b[0m\u001b[0;34m[\u001b[0m\u001b[0;36m1\u001b[0m\u001b[0;34m]\u001b[0m\u001b[0;34m,\u001b[0m\u001b[0;34m\u001b[0m\u001b[0;34m\u001b[0m\u001b[0m\n\u001b[0;32m----> 5\u001b[0;31m     Omega_k[2])\n\u001b[0m",
      "\u001b[0;31mTypeError\u001b[0m: 'Symbol' object is not subscriptable"
     ]
    }
   ],
   "source": [
    "print (np.shape(chi2),\n",
    "    # chi2.argmin()\n",
    "    chi2[1,2],\n",
    "    Omega_m[1],\n",
    "    Omega_k[2])"
   ]
  },
  {
   "cell_type": "code",
   "execution_count": null,
   "metadata": {},
   "outputs": [],
   "source": [
    "chi2"
   ]
  },
  {
   "cell_type": "code",
   "execution_count": null,
   "metadata": {
    "scrolled": true
   },
   "outputs": [],
   "source": [
    "# for ik, Omk in enumerate(Omega_k):\n",
    "#     for im, Omm in enumerate(Omega_m):\n",
    "#         if (Omk > 0):\n",
    "#             E = (Omm * (1+z_exp)**3 + Omk * (1+z_exp)**2 + (1-(Omm + Omk))) ** (0.5)\n",
    "#             DC = DH * integrate.cumtrapz((1/E), z_exp, initial = 0.0001)\n",
    "#         DM = DH * Omk**(-0.5) * np.sinh(Omk**0.5 * DC / DH)\n",
    "#         DL = (1+z_exp) * DM\n",
    "#         mu_theory = 5 * np.log10(DL) + 25\n",
    "#         mu_int = interpolate.interp1d(z_exp, mu_theory)(z_obs)\n",
    "#         mat1 = np.array(mu_int - mu_obs)\n",
    "#         mat2 = mat1.transpose()\n",
    "#         result1 = np.matmul(mat2, covinv)\n",
    "#         result2 = np.matmul(result1, mat1)\n",
    "#         chi2[ik, im] = result2\n",
    "        \n",
    "#         elif (Omk < 0) :\n",
    "#             E = (Omm * (1+z_exp)**3 + (Omk) * (1+z_exp)**2 + (1 - (Omm + (Omk)))) ** (0.5)\n",
    "#             DC = DH * integrate.cumtrapz((1/E), z_exp, initial = 0.0001)\n",
    "#             DM = DH * (Omk)**(-0.5) * np.sin((Omk)**0.5 * DC / DH)\n",
    "#             DL = (1+z_exp) * DM\n",
    "#             mu_theory = 5 * np.log10(dm) + 25\n",
    "#             mu_int = interpolate.interp1d(z_exp, mu_theory)(z_obs)\n",
    "#             mat1 = np.array(mu_int - mu_obs)\n",
    "#             mat2 = mat1.transpose()\n",
    "#             result1 = np.matmul(mat2, covinv)\n",
    "#             result2 = np.matmul(result1, mat1)\n",
    "#             chi2[ik, im] = result2\n",
    "        \n",
    "#         else :\n",
    "#             E = (Omm * (1+z_exp)**3 + (1-Omm)) ** (0.5)\n",
    "#             DC = DH * integrate.cumtrapz((1/E), z_exp, initial = 0.0001)\n",
    "#             mu_theory = 5 * np.log10(DC) + 25\n",
    "#             mu_int = interpolate.interp1d(z_exp, mu_theory)(z_obs)\n",
    "#             mat1 = np.array(mu_int - mu_obs)\n",
    "#             mat2 = mat1.transpose()\n",
    "#             result1 = np.matmul(mat2, covinv)\n",
    "#             result2 = np.matmul(result1, mat1)\n",
    "#             chi2[ik, im] = result2\n",
    "            \n",
    "#         print (chi2)"
   ]
  },
  {
   "cell_type": "code",
   "execution_count": 200,
   "metadata": {},
   "outputs": [
    {
     "data": {
      "image/png": "[encoded data removed]",
      "text/plain": [
       "<Figure size 432x288 with 2 Axes>"
      ]
     },
     "metadata": {
      "needs_background": "light"
     },
     "output_type": "display_data"
    }
   ],
   "source": [
    "#Generate data for the plot\n",
    "\n",
    "chi2min = np.nanmin(chi2)\n",
    "x = Omega_m\n",
    "y = Omega_l\n",
    "# z = chi2\n",
    "z = np.ma.masked_array(chi2,mask=chi2>chi2min+2)\n",
    "#x Omegam and y Omega lambda\n",
    "# Generate the plot\n",
    "fig, ax = plt.subplots()\n",
    "cmap = ax.pcolormesh(x, y, z.T)\n",
    "fig.colorbar(cmap)\n",
    "plt.show(fig)"
   ]
  },
  {
   "cell_type": "code",
   "execution_count": 194,
   "metadata": {},
   "outputs": [
    {
     "data": {
      "text/plain": [
       "masked_array(\n",
       "  data=[[--, --, --, --, --, --, --, --, --, --, --, nan, nan, nan, nan],\n",
       "        [--, --, --, --, --, --, --, --, --, --, --, --, nan, nan, nan],\n",
       "        [--, --, --, --, --, --, --, --, --, --, --, --, --, nan, nan],\n",
       "        [--, --, --, --, --, --, --, --, --, --, --, --, --, --, nan],\n",
       "        [--, --, --, --, --, --, --, --, --, --, --, --, --, --, --],\n",
       "        [--, --, --, --, --, --, 1027.8790021460925, --, --, --, --, --,\n",
       "         --, --, --],\n",
       "        [--, --, --, --, --, --, --, --, --, --, --, --, --, --, --],\n",
       "        [--, --, --, --, --, --, --, 1027.232372222003, --, --, --, --,\n",
       "         --, --, --],\n",
       "        [--, --, --, --, --, --, --, --, --, --, --, --, --, --, --],\n",
       "        [--, --, --, --, --, --, --, --, --, --, --, --, --, --, --],\n",
       "        [--, --, --, --, --, --, --, --, --, --, --, --, --, --, --],\n",
       "        [--, --, --, --, --, --, --, --, --, --, --, --, --, --, --],\n",
       "        [--, --, --, --, --, --, --, --, --, --, --, --, --, --, --],\n",
       "        [--, --, --, --, --, --, --, --, --, --, --, --, --, --, --],\n",
       "        [--, --, --, --, --, --, --, --, --, --, --, --, --, --, --],\n",
       "        [--, --, --, --, --, --, --, --, --, --, --, --, --, --, --],\n",
       "        [--, --, --, --, --, --, --, --, --, --, --, --, --, --, --],\n",
       "        [--, --, --, --, --, --, --, --, --, --, --, --, --, --, --],\n",
       "        [--, --, --, --, --, --, --, --, --, --, --, --, --, --, --],\n",
       "        [--, --, --, --, --, --, --, --, --, --, --, --, --, --, --],\n",
       "        [--, --, --, --, --, --, --, --, --, --, --, --, --, --, --]],\n",
       "  mask=[[ True,  True,  True,  True,  True,  True,  True,  True,  True,\n",
       "          True,  True, False, False, False, False],\n",
       "        [ True,  True,  True,  True,  True,  True,  True,  True,  True,\n",
       "          True,  True,  True, False, False, False],\n",
       "        [ True,  True,  True,  True,  True,  True,  True,  True,  True,\n",
       "          True,  True,  True,  True, False, False],\n",
       "        [ True,  True,  True,  True,  True,  True,  True,  True,  True,\n",
       "          True,  True,  True,  True,  True, False],\n",
       "        [ True,  True,  True,  True,  True,  True,  True,  True,  True,\n",
       "          True,  True,  True,  True,  True,  True],\n",
       "        [ True,  True,  True,  True,  True,  True, False,  True,  True,\n",
       "          True,  True,  True,  True,  True,  True],\n",
       "        [ True,  True,  True,  True,  True,  True,  True,  True,  True,\n",
       "          True,  True,  True,  True,  True,  True],\n",
       "        [ True,  True,  True,  True,  True,  True,  True, False,  True,\n",
       "          True,  True,  True,  True,  True,  True],\n",
       "        [ True,  True,  True,  True,  True,  True,  True,  True,  True,\n",
       "          True,  True,  True,  True,  True,  True],\n",
       "        [ True,  True,  True,  True,  True,  True,  True,  True,  True,\n",
       "          True,  True,  True,  True,  True,  True],\n",
       "        [ True,  True,  True,  True,  True,  True,  True,  True,  True,\n",
       "          True,  True,  True,  True,  True,  True],\n",
       "        [ True,  True,  True,  True,  True,  True,  True,  True,  True,\n",
       "          True,  True,  True,  True,  True,  True],\n",
       "        [ True,  True,  True,  True,  True,  True,  True,  True,  True,\n",
       "          True,  True,  True,  True,  True,  True],\n",
       "        [ True,  True,  True,  True,  True,  True,  True,  True,  True,\n",
       "          True,  True,  True,  True,  True,  True],\n",
       "        [ True,  True,  True,  True,  True,  True,  True,  True,  True,\n",
       "          True,  True,  True,  True,  True,  True],\n",
       "        [ True,  True,  True,  True,  True,  True,  True,  True,  True,\n",
       "          True,  True,  True,  True,  True,  True],\n",
       "        [ True,  True,  True,  True,  True,  True,  True,  True,  True,\n",
       "          True,  True,  True,  True,  True,  True],\n",
       "        [ True,  True,  True,  True,  True,  True,  True,  True,  True,\n",
       "          True,  True,  True,  True,  True,  True],\n",
       "        [ True,  True,  True,  True,  True,  True,  True,  True,  True,\n",
       "          True,  True,  True,  True,  True,  True],\n",
       "        [ True,  True,  True,  True,  True,  True,  True,  True,  True,\n",
       "          True,  True,  True,  True,  True,  True],\n",
       "        [ True,  True,  True,  True,  True,  True,  True,  True,  True,\n",
       "          True,  True,  True,  True,  True,  True]],\n",
       "  fill_value=1e+20)"
      ]
     },
     "execution_count": 194,
     "metadata": {},
     "output_type": "execute_result"
    }
   ],
   "source": [
    "z\n"
   ]
  },
  {
   "cell_type": "code",
   "execution_count": null,
   "metadata": {},
   "outputs": [],
   "source": []
  }
 ],
 "metadata": {
  "kernelspec": {
   "display_name": "Python 3",
   "language": "python",
   "name": "python3"
  },
  "language_info": {
   "codemirror_mode": {
    "name": "ipython",
    "version": 3
   },
   "file_extension": ".py",
   "mimetype": "text/x-python",
   "name": "python",
   "nbconvert_exporter": "python",
   "pygments_lexer": "ipython3",
   "version": "3.7.4"
  }
 },
 "nbformat": 4,
 "nbformat_minor": 2
}
