{
 "cells": [
  {
   "cell_type": "code",
   "execution_count": 10,
   "metadata": {},
   "outputs": [],
   "source": [
    "import pandas as pd\n",
    "import numpy as np\n",
    "import seaborn as sns\n",
    "from sympy import *\n",
    "sns.set(style=\"darkgrid\")\n",
    "import matplotlib.pyplot as plt\n",
    "import scipy.integrate as integrate\n",
    "%matplotlib inline \n",
    "import math"
   ]
  },
  {
   "cell_type": "code",
   "execution_count": 3,
   "metadata": {},
   "outputs": [],
   "source": [
    "df = pd.read_csv('mu_pantheon.csv')"
   ]
  },
  {
   "cell_type": "code",
   "execution_count": 4,
   "metadata": {},
   "outputs": [],
   "source": [
    "df.columns = ['redshift', 'mu', 'error']\n",
    "z_obs = df.redshift\n",
    "z_exp = np.arange(0, 2.6, 0.01)\n",
    "y = df.mu\n",
    "yerr = df.error\n",
    "Omega_m = Symbol('Omega_m')\n",
    "# Omega_m = np.arange(0, 1.0, 0.0001)\n",
    "nOm = 1001\n",
    "Omega_m = np.linspace(0,1,num=nOm)\n",
    "H_0 = 70*10**3\n",
    "c = 3*10**8"
   ]
  },
  {
   "cell_type": "code",
   "execution_count": 11,
   "metadata": {
    "scrolled": true
   },
   "outputs": [],
   "source": [
    "chi2 = []\n",
    "from scipy import interpolate\n",
    "for i,Om in enumerate(Omega_m):\n",
    "    d = (Om * (1 + z_exp)**3 + (1 - Om))**(-0.5)\n",
    "    dlum = integrate.cumtrapz(d, z_exp, initial = 0.0001)\n",
    "    mu_exp = 5 * np.log10((c/H_0 * (1 + z_exp)) * dlum) + 25\n",
    "    mu_int = interpolate.interp1d(z_exp, mu_exp)(z_obs)\n",
    "    result = np.sum((mu_int - y)**2 / (yerr**2))\n",
    "    chi2.append(result)"
   ]
  },
  {
   "cell_type": "code",
   "execution_count": 6,
   "metadata": {
    "scrolled": true
   },
   "outputs": [],
   "source": [
    "chi2 = np.asarray(chi2)"
   ]
  },
  {
   "cell_type": "code",
   "execution_count": 7,
   "metadata": {},
   "outputs": [
    {
     "data": {
      "text/plain": [
       "<matplotlib.collections.PathCollection at 0x1a1e35df28>"
      ]
     },
     "execution_count": 7,
     "metadata": {},
     "output_type": "execute_result"
    },
    {
     "data": {
      "image/png": "[encoded data removed]",
      "text/plain": [
       "<Figure size 432x288 with 1 Axes>"
      ]
     },
     "metadata": {
      "needs_background": "light"
     },
     "output_type": "display_data"
    }
   ],
   "source": [
    "plt.scatter(Omega_m, chi2)"
   ]
  },
  {
   "cell_type": "code",
   "execution_count": 8,
   "metadata": {},
   "outputs": [
    {
     "data": {
      "text/plain": [
       "1042.9682343692116"
      ]
     },
     "execution_count": 8,
     "metadata": {},
     "output_type": "execute_result"
    }
   ],
   "source": [
    "min(chi2)"
   ]
  },
  {
   "cell_type": "code",
   "execution_count": 9,
   "metadata": {},
   "outputs": [
    {
     "data": {
      "text/plain": [
       "(array([293]),)"
      ]
     },
     "execution_count": 9,
     "metadata": {},
     "output_type": "execute_result"
    }
   ],
   "source": [
    "np.where(chi2 == min(chi2))"
   ]
  }
 ],
 "metadata": {
  "kernelspec": {
   "display_name": "Python 3",
   "language": "python",
   "name": "python3"
  },
  "language_info": {
   "codemirror_mode": {
    "name": "ipython",
    "version": 3
   },
   "file_extension": ".py",
   "mimetype": "text/x-python",
   "name": "python",
   "nbconvert_exporter": "python",
   "pygments_lexer": "ipython3",
   "version": "3.7.3"
  }
 },
 "nbformat": 4,
 "nbformat_minor": 2
}
