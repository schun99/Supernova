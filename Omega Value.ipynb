{
 "cells": [
  {
   "cell_type": "code",
   "execution_count": 79,
   "metadata": {},
   "outputs": [],
   "source": [
    "import pandas as pd\n",
    "import numpy as np\n",
    "import seaborn as sns\n",
    "from sympy import *\n",
    "sns.set(style=\"darkgrid\")\n",
    "import matplotlib.pyplot as plt\n",
    "import scipy.integrate as integrate\n",
    "%matplotlib inline "
   ]
  },
  {
   "cell_type": "code",
   "execution_count": 80,
   "metadata": {},
   "outputs": [],
   "source": [
    "df = pd.read_csv('mu_pantheon.csv')"
   ]
  },
  {
   "cell_type": "code",
   "execution_count": 86,
   "metadata": {},
   "outputs": [],
   "source": [
    "df.columns = ['redshift', 'mu', 'error']\n",
    "z = df.redshift\n",
    "y = df.mu\n",
    "yerr = df.error\n",
    "Omega_m = Symbol('Omega_m')\n",
    "Omega_m = np.arange(0, 1.0, 0.01)\n",
    "Omega_m = np.asarray(Omega_m)\n",
    "H_0 = 70*10**3\n",
    "c = 3*10**8"
   ]
  },
  {
   "cell_type": "code",
   "execution_count": 87,
   "metadata": {},
   "outputs": [],
   "source": [
    "z = np.asarray(z)\n",
    "z = np.insert(z, 0, 0)\n",
    "y = np.asarray(y)\n",
    "yerr = np.asarray(yerr)"
   ]
  },
  {
   "cell_type": "code",
   "execution_count": 88,
   "metadata": {},
   "outputs": [
    {
     "data": {
      "text/plain": [
       "1048"
      ]
     },
     "execution_count": 88,
     "metadata": {},
     "output_type": "execute_result"
    }
   ],
   "source": [
    "len(yerr)"
   ]
  },
  {
   "cell_type": "code",
   "execution_count": 92,
   "metadata": {},
   "outputs": [
    {
     "data": {
      "text/plain": [
       "array([33.25745, 33.3996 , 33.2748 , ..., 45.5511 , 45.5109 , 46.227  ])"
      ]
     },
     "execution_count": 92,
     "metadata": {},
     "output_type": "execute_result"
    }
   ],
   "source": [
    "y"
   ]
  },
  {
   "cell_type": "code",
   "execution_count": 95,
   "metadata": {
    "scrolled": false
   },
   "outputs": [
    {
     "name": "stdout",
     "output_type": "stream",
     "text": [
      "[488.76569377]\n",
      "[455.67843547]\n",
      "[425.6215921]\n",
      "[398.17550934]\n",
      "[373.03130515]\n",
      "[349.94809211]\n",
      "[328.73083055]\n",
      "[309.2173774]\n",
      "[291.27026044]\n",
      "[274.77113149]\n",
      "[259.61685195]\n",
      "[245.71662992]\n",
      "[232.98986558]\n",
      "[221.36449071]\n",
      "[210.77566365]\n",
      "[201.16472623]\n",
      "[192.47835821]\n",
      "[184.66788297]\n",
      "[177.6886914]\n",
      "[171.49975905]\n",
      "[166.06323807]\n",
      "[161.34410964]\n",
      "[157.30988579]\n",
      "[153.93035216]\n",
      "[151.17734458]\n",
      "[149.02455419]\n",
      "[147.44735647]\n",
      "[146.42266074]\n",
      "[145.92877691]\n",
      "[145.94529735]\n",
      "[146.45299141]\n",
      "[147.43371134]\n",
      "[148.87030771]\n",
      "[150.74655346]\n",
      "[153.04707532]\n",
      "[155.75729181]\n",
      "[158.86335703]\n",
      "[162.35210954]\n",
      "[166.21102586]\n",
      "[170.42817796]\n",
      "[174.99219441]\n",
      "[179.8922248]\n",
      "[185.11790702]\n",
      "[190.65933724]\n",
      "[196.50704218]\n",
      "[202.65195356]\n",
      "[209.08538453]\n",
      "[215.79900776]\n",
      "[222.78483524]\n",
      "[230.03519942]\n",
      "[237.5427358]\n",
      "[245.30036667]\n",
      "[253.30128594]\n",
      "[261.53894503]\n",
      "[270.0070397]\n",
      "[278.69949771]\n",
      "[287.61046731]\n",
      "[296.73430639]\n",
      "[306.06557239]\n",
      "[315.5990128]\n",
      "[325.32955618]\n",
      "[335.25230381]\n",
      "[345.36252179]\n",
      "[355.65563355]\n",
      "[366.12721288]\n",
      "[376.7729773]\n",
      "[387.5887818]\n",
      "[398.57061294]\n",
      "[409.71458327]\n",
      "[421.01692606]\n",
      "[432.47399028]\n",
      "[444.08223587]\n",
      "[455.83822923]\n",
      "[467.73863902]\n",
      "[479.780232]\n",
      "[491.95986931]\n",
      "[504.27450274]\n",
      "[516.72117125]\n",
      "[529.29699774]\n",
      "[541.99918581]\n",
      "[554.82501682]\n",
      "[567.77184701]\n",
      "[580.8371048]\n",
      "[594.01828813]\n",
      "[607.31296206]\n",
      "[620.71875634]\n",
      "[634.23336316]\n",
      "[647.85453501]\n",
      "[661.58008256]\n",
      "[675.40787273]\n",
      "[689.33582678]\n",
      "[703.36191847]\n",
      "[717.48417234]\n",
      "[731.70066207]\n",
      "[746.00950882]\n",
      "[760.40887975]\n",
      "[774.89698655]\n",
      "[789.47208399]\n",
      "[804.13246858]\n",
      "[818.87647731]\n"
     ]
    }
   ],
   "source": [
    "chi2 = [];\n",
    "for i in Omega_m:\n",
    "    d = (i*(1+z)**3+(1-i))**-0.5\n",
    "    dlum = integrate.cumtrapz(d, z)\n",
    "    z_exp = 5*np.log10((c/H_0*(1+z[:-1]))*dlum)+25\n",
    "    k = (((z_exp - z_obs)**2)/yerr)\n",
    "    print(np.asarray(np.sum(k, axis = 0, keepdims = True)))"
   ]
  },
  {
   "cell_type": "code",
   "execution_count": 9,
   "metadata": {
    "scrolled": false
   },
   "outputs": [],
   "source": [
    "b = np.polyfit(Omega_m, chi2, 3)"
   ]
  },
  {
   "cell_type": "code",
   "execution_count": 10,
   "metadata": {},
   "outputs": [
    {
     "data": {
      "text/plain": [
       "<matplotlib.collections.PathCollection at 0x1a19bcee10>"
      ]
     },
     "execution_count": 10,
     "metadata": {},
     "output_type": "execute_result"
    },
    {
     "data": {
      "image/png": "[encoded data removed]",
      "text/plain": [
       "<Figure size 432x288 with 1 Axes>"
      ]
     },
     "metadata": {
      "needs_background": "light"
     },
     "output_type": "display_data"
    }
   ],
   "source": [
    "plt.scatter(Omega_m, chi2)"
   ]
  },
  {
   "cell_type": "code",
   "execution_count": 11,
   "metadata": {},
   "outputs": [],
   "source": [
    "from scipy.optimize import minimize_scalar\n",
    "from scipy import optimize"
   ]
  },
  {
   "cell_type": "code",
   "execution_count": 12,
   "metadata": {
    "scrolled": false
   },
   "outputs": [
    {
     "data": {
      "text/plain": [
       "array([0.30854374])"
      ]
     },
     "execution_count": 12,
     "metadata": {},
     "output_type": "execute_result"
    }
   ],
   "source": [
    "x = symbols('x')\n",
    "def f(x):\n",
    "    return b[0]*x**3+b[1]*x**2+b[2]*x+b[3]\n",
    "\n",
    "res = minimize_scalar(f)\n",
    "res.x"
   ]
  },
  {
   "cell_type": "code",
   "execution_count": 13,
   "metadata": {
    "scrolled": false
   },
   "outputs": [
    {
     "data": {
      "text/plain": [
       "[-5102.71532250318*x**2 + 8290.97155370599*x - 2072.35274056515]"
      ]
     },
     "execution_count": 13,
     "metadata": {},
     "output_type": "execute_result"
    }
   ],
   "source": [
    "derive = diff(f(x), x)\n",
    "derive.doit()\n",
    "#Coef1 = -5102.71532250318\n",
    "#Coef2 = 8290.97155370599\n",
    "#Coef3 = -2072.35274056515"
   ]
  },
  {
   "cell_type": "code",
   "execution_count": 14,
   "metadata": {},
   "outputs": [],
   "source": [
    "coeff = [-5102.71532250318, 8290.97155370599, -2072.35274056515]"
   ]
  },
  {
   "cell_type": "code",
   "execution_count": 15,
   "metadata": {
    "scrolled": true
   },
   "outputs": [
    {
     "data": {
      "text/plain": [
       "array([1.31627188, 0.30854374])"
      ]
     },
     "execution_count": 15,
     "metadata": {},
     "output_type": "execute_result"
    }
   ],
   "source": [
    "np.roots(coeff)"
   ]
  }
 ],
 "metadata": {
  "kernelspec": {
   "display_name": "Python 3",
   "language": "python",
   "name": "python3"
  },
  "language_info": {
   "codemirror_mode": {
    "name": "ipython",
    "version": 3
   },
   "file_extension": ".py",
   "mimetype": "text/x-python",
   "name": "python",
   "nbconvert_exporter": "python",
   "pygments_lexer": "ipython3",
   "version": "3.7.4"
  }
 },
 "nbformat": 4,
 "nbformat_minor": 2
}
